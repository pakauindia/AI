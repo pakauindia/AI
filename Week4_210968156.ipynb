{
  "cells": [
    {
      "cell_type": "markdown",
      "id": "f8fbc417",
      "metadata": {
        "id": "f8fbc417"
      },
      "source": [
        "# Week-4 AI Lab\n",
        "# Parshva Dedhia\n",
        "# 210968156"
      ]
    },
    {
      "cell_type": "markdown",
      "id": "4a8fefdf",
      "metadata": {
        "id": "4a8fefdf"
      },
      "source": [
        "## Exercises\n",
        "The Traveling Salesman Problem (TSP) is: “Given is a list of cities and distances between each\n",
        "pair of cities - what is the shortest route that visits each city and returns to the original city?”\n",
        "Consider the symmetric variant of the TSP (sTSP), where the cost from city j to city i equals the\n",
        "cost from city i to city j.\n",
        "\n",
        "1. Download the TSPLIB dataset, which contains graphs with cities as nodes & the\n",
        "distances between them, either in tsp or XML format\n",
        "http://comopt.ifi.uni-heidelberg.de/software/TSPLIB95/\n",
        "The documentation is available in :\n",
        "http://comopt.ifi.uni-heidelberg.de/software/TSPLIB95/tsp95.pdf\n",
        "\n",
        "2. Consider the following datasets: rd100.tsp, eil101.tsp, a280.tsp, d198.tsp and\n",
        "ch150.tsp. For each dataset:\\\n",
        "a. Compute the distance matrices between cities.\\\n",
        "b. Assess the performance of three Hill Climbing Algorithms in solving the TSP.\\\n",
        "i. Simple Hill Climbing\\\n",
        "ii. Stochastic Hill Climbing\\\n",
        "c. Tabulate results and comment on the best local search method for all datasets."
      ]
    },
    {
      "cell_type": "markdown",
      "id": "ad8c6892",
      "metadata": {
        "id": "ad8c6892"
      },
      "source": [
        "## Importing Libraries"
      ]
    },
    {
      "cell_type": "code",
      "execution_count": null,
      "id": "c0652334",
      "metadata": {
        "id": "c0652334"
      },
      "outputs": [],
      "source": [
        "import pandas as pd\n",
        "from scipy.spatial import distance_matrix\n",
        "from python_tsp.distances import tsplib_distance_matrix\n",
        "import matplotlib.pyplot as plt\n",
        "import numpy as np\n",
        "from tqdm import tqdm"
      ]
    },
    {
      "cell_type": "markdown",
      "id": "7b610527",
      "metadata": {
        "id": "7b610527"
      },
      "source": [
        "## 1. Download the TSPLIB dataset in tsp  format."
      ]
    },
    {
      "cell_type": "code",
      "execution_count": null,
      "id": "7d9da1e3",
      "metadata": {
        "id": "7d9da1e3"
      },
      "outputs": [],
      "source": [
        "datasets = ['rd100.tsp', 'eil101.tsp', 'ch150.tsp', 'd198.tsp', 'a280.tsp']"
      ]
    },
    {
      "cell_type": "markdown",
      "id": "1c09d417",
      "metadata": {
        "id": "1c09d417"
      },
      "source": [
        "## a. Compute the distance matrices between cities."
      ]
    },
    {
      "cell_type": "code",
      "execution_count": null,
      "id": "79ef1cf8",
      "metadata": {
        "id": "79ef1cf8",
        "outputId": "537058fd-da8b-4963-955e-4be73c5966a3"
      },
      "outputs": [
        {
          "name": "stdout",
          "output_type": "stream",
          "text": [
            "rd100.tsp\n",
            "[[   0 1134  421 ...  766  544  820]\n",
            " [1134    0  807 ...  415  643  414]\n",
            " [ 421  807    0 ...  397  164  622]\n",
            " ...\n",
            " [ 766  415  397 ...    0  236  386]\n",
            " [ 544  643  164 ...  236    0  485]\n",
            " [ 820  414  622 ...  386  485    0]]\n",
            "\n",
            "\n",
            "eil101.tsp\n",
            "[[ 0 33 15 ... 31 39 15]\n",
            " [33  0 34 ... 17 17 18]\n",
            " [15 34  0 ... 40 46 22]\n",
            " ...\n",
            " [31 17 40 ...  0  8 17]\n",
            " [39 17 46 ...  8  0 24]\n",
            " [15 18 22 ... 17 24  0]]\n",
            "\n",
            "\n",
            "ch150.tsp\n",
            "[[  0 577 188 ... 770 270 379]\n",
            " [577   0 591 ... 368 607 615]\n",
            " [188 591   0 ... 688  83 194]\n",
            " ...\n",
            " [770 368 688 ...   0 657 600]\n",
            " [270 607  83 ... 657   0 113]\n",
            " [379 615 194 ... 600 113   0]]\n",
            "\n",
            "\n",
            "d198.tsp\n",
            "[[   0 1139 1177 ... 4172 4153 4079]\n",
            " [1139    0   76 ... 3478 3477 3401]\n",
            " [1177   76    0 ... 3402 3401 3325]\n",
            " ...\n",
            " [4172 3478 3402 ...    0   76  108]\n",
            " [4153 3477 3401 ...   76    0   76]\n",
            " [4079 3401 3325 ...  108   76    0]]\n",
            "\n",
            "\n",
            "a280.tsp\n",
            "[[ 0 20 24 ... 43 34 18]\n",
            " [20  0 18 ... 36 28  9]\n",
            " [24 18  0 ... 20 11 10]\n",
            " ...\n",
            " [43 36 20 ...  0  9 29]\n",
            " [34 28 11 ...  9  0 20]\n",
            " [18  9 10 ... 29 20  0]]\n",
            "\n",
            "\n"
          ]
        }
      ],
      "source": [
        "for i in datasets:\n",
        "    print(i)\n",
        "    print(tsplib_distance_matrix(i))\n",
        "    print('\\n')"
      ]
    },
    {
      "cell_type": "markdown",
      "id": "e2b22cf0",
      "metadata": {
        "id": "e2b22cf0"
      },
      "source": [
        "## b. Assess the performance of Hill Climbing Algorithms in solving the TSP."
      ]
    },
    {
      "cell_type": "code",
      "execution_count": null,
      "id": "5d2777b5",
      "metadata": {
        "id": "5d2777b5"
      },
      "outputs": [],
      "source": [
        "#Function to read cordinates from .tsp files.\n",
        "def load_data(filename):\n",
        "    with open(filename, \"r\") as f:\n",
        "        V = []\n",
        "        data = f.readlines()\n",
        "        for i, line in enumerate(data):\n",
        "            if line.startswith(\"NODE_COORD_SECTION\"):\n",
        "                data = data[i+1:len(data)-1]\n",
        "                break\n",
        "        for i, line in enumerate(data):\n",
        "            node = line.split()[1:]\n",
        "            node = np.array([float(i) for i in node])\n",
        "            V.append(node)\n",
        "        cities = {i : V[i] for i in range(len(V))}\n",
        "    return cities"
      ]
    },
    {
      "cell_type": "code",
      "execution_count": null,
      "id": "af216f52",
      "metadata": {
        "id": "af216f52"
      },
      "outputs": [],
      "source": [
        "#Simple function for calculating Euclidian distance between two points.\n",
        "def euclid_distance(x,y):\n",
        "    # x and y are numpy arrays\n",
        "    return np.sqrt(np.sum((x-y)**2))"
      ]
    },
    {
      "cell_type": "code",
      "execution_count": null,
      "id": "a3ac1681",
      "metadata": {
        "id": "a3ac1681"
      },
      "outputs": [],
      "source": [
        "#Function to calculate all paths possible in tsp .\n",
        "def calculate_paths(cities:dict):\n",
        "    names = [i for i in range(len(cities))]\n",
        "    paths = np.zeros((len(names), len(names)))\n",
        "    for i in range(len(names)):\n",
        "        for j in range(len(names)):\n",
        "            if i != j:\n",
        "                paths[i,j] = euclid_distance(cities[names[i]], cities[names[j]])\n",
        "    return paths"
      ]
    },
    {
      "cell_type": "code",
      "execution_count": null,
      "id": "733e8efd",
      "metadata": {
        "id": "733e8efd"
      },
      "outputs": [],
      "source": [
        "#Initial tour/path.\n",
        "def initialize_tour(paths):\n",
        "\n",
        "    num_cities = paths.shape[0]\n",
        "    visited = [False] * num_cities\n",
        "    tour = [np.random.randint(0, num_cities)]\n",
        "    visited[tour[0]] = True\n",
        "\n",
        "    while len(tour) < num_cities:\n",
        "        current_city = tour[-1]\n",
        "        nearest_city = None\n",
        "        nearest_distance = float('inf')\n",
        "\n",
        "        # Find the nearest unvisited city to the current city\n",
        "        for city in range(num_cities):\n",
        "            if not visited[city] and paths[current_city, city] < nearest_distance:\n",
        "                nearest_city = city\n",
        "                nearest_distance = paths[current_city, city]\n",
        "\n",
        "        tour.append(nearest_city)\n",
        "        visited[nearest_city] = True\n",
        "\n",
        "    return tour"
      ]
    },
    {
      "cell_type": "code",
      "execution_count": null,
      "id": "04bde66f",
      "metadata": {
        "id": "04bde66f"
      },
      "outputs": [],
      "source": [
        "#Function to get neighbours near a point (to decide path).\n",
        "def generate_neighbors(x, n=10):\n",
        "    neighbors = []\n",
        "    while len(neighbors) < n:\n",
        "        i = np.random.randint(0, len(x)-2)\n",
        "        j = np.random.randint(1, len(x)-1)\n",
        "        if i > j :\n",
        "            i, j = j, i\n",
        "        neighbor = x.copy()\n",
        "        neighbor[i:j] = neighbor[i:j][::-1]\n",
        "        if tuple(neighbor) not in map(tuple, neighbors):\n",
        "            neighbors.append(neighbor)\n",
        "    return neighbors"
      ]
    },
    {
      "cell_type": "code",
      "execution_count": null,
      "id": "3e1d14b0",
      "metadata": {
        "id": "3e1d14b0"
      },
      "outputs": [],
      "source": [
        "#Cost of chosen path.\n",
        "def fitness(x, paths):\n",
        "    # x is a list of cities\n",
        "    fitness = 0\n",
        "    for i in range(len(x)-1):\n",
        "        fitness += paths[x[i], x[i+1]]\n",
        "    fitness += paths[x[-1], x[0]]\n",
        "    return fitness"
      ]
    },
    {
      "cell_type": "markdown",
      "id": "baab2fb7",
      "metadata": {
        "id": "baab2fb7"
      },
      "source": [
        "## i. Simple Hill Climbing"
      ]
    },
    {
      "cell_type": "code",
      "execution_count": null,
      "id": "e116b890",
      "metadata": {
        "id": "e116b890"
      },
      "outputs": [],
      "source": [
        "#Chooses neighbour with least cost (edge weight). Simple Hill Climbing.\n",
        "def best_neighbor(x:list, paths:np.array, generate_neighbors:callable = generate_neighbors, fitness: callable = fitness):\n",
        "    neighbors = generate_neighbors(x)\n",
        "    best_neighbor = neighbors[0]\n",
        "    for neighbor in range(1, len(neighbors)):\n",
        "        if fitness(neighbors[neighbor], paths) < fitness(best_neighbor, paths):\n",
        "            best_neighbor = neighbors[neighbor]\n",
        "    return best_neighbor"
      ]
    },
    {
      "cell_type": "markdown",
      "id": "1c78fca3",
      "metadata": {
        "id": "1c78fca3"
      },
      "source": [
        "## ii. Stochastic Hill Climbing"
      ]
    },
    {
      "cell_type": "code",
      "execution_count": null,
      "id": "12de0fa7",
      "metadata": {
        "id": "12de0fa7"
      },
      "outputs": [],
      "source": [
        "#Chooses random neighbour. Used in Stochastic Hill Climbing.\n",
        "def random_neighbor(x:list, paths:np.array, generate_neighbors:callable = generate_neighbors):\n",
        "    neighbors = generate_neighbors(x)\n",
        "    return neighbors[np.random.randint(0, len(neighbors))]"
      ]
    },
    {
      "cell_type": "code",
      "execution_count": null,
      "id": "4480b553",
      "metadata": {
        "id": "4480b553"
      },
      "outputs": [],
      "source": [
        "#Function to read cordinates from .opt.tour files.\n",
        "def load_city_coordinates(filename):\n",
        "    city_coords = []\n",
        "    with open(filename, 'r') as file:\n",
        "        reading_coords = False\n",
        "        for line in file:\n",
        "            if line.strip() == \"EOF\":\n",
        "                break\n",
        "            if reading_coords:\n",
        "                parts = line.strip().split()\n",
        "                city_coords.append([float(parts[1]), float(parts[2])])\n",
        "            if line.strip() == \"NODE_COORD_SECTION\":\n",
        "                reading_coords = True\n",
        "    return np.array(city_coords)\n",
        "\n",
        "#Calculate the total cost of tour.\n",
        "def calculate_tour_distance(city_coords, tour):\n",
        "    total_distance = 0\n",
        "    for i in range(len(tour) - 1):\n",
        "        city1 = tour[i] - 1  # Adjust for 0-based indexing\n",
        "        city2 = tour[i + 1] - 1\n",
        "        total_distance += euclid_distance(city_coords[city1], city_coords[city2])\n",
        "    # Add distance from last city back to the starting city\n",
        "    total_distance += euclid_distance(city_coords[tour[-1] - 1], city_coords[tour[0] - 1])\n",
        "    return total_distance\n",
        "\n",
        "#Load the optimal tour from the rd100.opt.tour file\n",
        "def optimal_tour(filename,tspfile):\n",
        "    optimal_tour = []\n",
        "    with open(filename, 'r') as file:\n",
        "        reading_tour = False\n",
        "        for line in file:\n",
        "            if reading_tour:\n",
        "                if line.strip() == \"-1\" or line.strip() == \"EOF\":\n",
        "                    break\n",
        "                optimal_tour.extend(map(int, line.strip().split()))\n",
        "            if line.strip() == \"TOUR_SECTION\":\n",
        "                reading_tour = True\n",
        "    return calculate_tour_distance(load_city_coordinates(tspfile), optimal_tour)\n",
        "\n",
        "#Function that uses all above functions to finally perform hill climbing.\n",
        "def hill_climbing(f:callable, x_init:float, n_iters:int, paths:np.array, variant:str, epsilon:float = 0.001, steepest:bool = False):\n",
        "    # choose intial x randomly as x_best\n",
        "    x = x_init\n",
        "    x_best = x\n",
        "    if variant == \"simple\":\n",
        "        neighbor_function = best_neighbor\n",
        "    elif variant == \"stochastic\":\n",
        "        neighbor_function = random_neighbor\n",
        "    for i in tqdm(range(n_iters)):\n",
        "        y = neighbor_function(x, paths)\n",
        "        if f(x, paths) > f(y, paths) :\n",
        "            x = y\n",
        "            if f(x, paths) < f(x_best, paths):\n",
        "                x_best = x\n",
        "            else:\n",
        "                if steepest:\n",
        "                    x = x_best\n",
        "    return x_best"
      ]
    },
    {
      "cell_type": "markdown",
      "id": "d0ee1e77",
      "metadata": {
        "id": "d0ee1e77"
      },
      "source": [
        "## c. Tabulate results and comment on the best local search method for all datasets."
      ]
    },
    {
      "cell_type": "code",
      "execution_count": null,
      "id": "f04e06c9",
      "metadata": {
        "id": "f04e06c9",
        "outputId": "12332dcf-3ba8-4e5d-cf02-f0f7bc8d6df7"
      },
      "outputs": [
        {
          "name": "stderr",
          "output_type": "stream",
          "text": [
            "100%|██████████████████████████████████████████████████████████████████████████████| 100/100 [00:00<00:00, 2403.52it/s]\n",
            "100%|██████████████████████████████████████████████████████████████████████████████| 100/100 [00:00<00:00, 9707.46it/s]\n",
            "100%|██████████████████████████████████████████████████████████████████████████████| 100/100 [00:00<00:00, 2493.48it/s]\n",
            "100%|██████████████████████████████████████████████████████████████████████████████| 100/100 [00:00<00:00, 9974.33it/s]\n",
            "100%|██████████████████████████████████████████████████████████████████████████████| 100/100 [00:00<00:00, 1797.18it/s]\n",
            "100%|██████████████████████████████████████████████████████████████████████████████| 100/100 [00:00<00:00, 8302.26it/s]\n",
            "100%|██████████████████████████████████████████████████████████████████████████████| 100/100 [00:00<00:00, 1321.10it/s]\n",
            "100%|██████████████████████████████████████████████████████████████████████████████| 100/100 [00:00<00:00, 8643.95it/s]\n",
            "100%|███████████████████████████████████████████████████████████████████████████████| 100/100 [00:00<00:00, 973.08it/s]\n",
            "100%|██████████████████████████████████████████████████████████████████████████████| 100/100 [00:00<00:00, 5541.57it/s]\n"
          ]
        },
        {
          "data": {
            "text/html": [
              "<div>\n",
              "<style scoped>\n",
              "    .dataframe tbody tr th:only-of-type {\n",
              "        vertical-align: middle;\n",
              "    }\n",
              "\n",
              "    .dataframe tbody tr th {\n",
              "        vertical-align: top;\n",
              "    }\n",
              "\n",
              "    .dataframe thead th {\n",
              "        text-align: right;\n",
              "    }\n",
              "</style>\n",
              "<table border=\"1\" class=\"dataframe\">\n",
              "  <thead>\n",
              "    <tr style=\"text-align: right;\">\n",
              "      <th></th>\n",
              "      <th>Dataset</th>\n",
              "      <th>Simple Fitness</th>\n",
              "      <th>Stochastic Fitness</th>\n",
              "      <th>Optimal Fitness</th>\n",
              "      <th>Simple Fitness Accuracy</th>\n",
              "      <th>Stochastic Fitness Accuracy</th>\n",
              "    </tr>\n",
              "  </thead>\n",
              "  <tbody>\n",
              "    <tr>\n",
              "      <th>0</th>\n",
              "      <td>rd100.tsp</td>\n",
              "      <td>9219.712810</td>\n",
              "      <td>9591.514574</td>\n",
              "      <td>7910.396210</td>\n",
              "      <td>0.857987</td>\n",
              "      <td>0.824729</td>\n",
              "    </tr>\n",
              "    <tr>\n",
              "      <th>1</th>\n",
              "      <td>eil101.tsp</td>\n",
              "      <td>754.646977</td>\n",
              "      <td>769.287114</td>\n",
              "      <td>642.309536</td>\n",
              "      <td>0.851139</td>\n",
              "      <td>0.834941</td>\n",
              "    </tr>\n",
              "    <tr>\n",
              "      <th>2</th>\n",
              "      <td>ch150.tsp</td>\n",
              "      <td>7966.184377</td>\n",
              "      <td>7334.286658</td>\n",
              "      <td>6532.280933</td>\n",
              "      <td>0.820001</td>\n",
              "      <td>0.890650</td>\n",
              "    </tr>\n",
              "    <tr>\n",
              "      <th>3</th>\n",
              "      <td>d198.tsp</td>\n",
              "      <td>18615.860216</td>\n",
              "      <td>19239.869423</td>\n",
              "      <td>15809.660734</td>\n",
              "      <td>0.849258</td>\n",
              "      <td>0.821714</td>\n",
              "    </tr>\n",
              "    <tr>\n",
              "      <th>4</th>\n",
              "      <td>a280.tsp</td>\n",
              "      <td>3467.559927</td>\n",
              "      <td>3200.804359</td>\n",
              "      <td>2586.769648</td>\n",
              "      <td>0.745991</td>\n",
              "      <td>0.808162</td>\n",
              "    </tr>\n",
              "  </tbody>\n",
              "</table>\n",
              "</div>"
            ],
            "text/plain": [
              "      Dataset  Simple Fitness  Stochastic Fitness  Optimal Fitness  \\\n",
              "0   rd100.tsp     9219.712810         9591.514574      7910.396210   \n",
              "1  eil101.tsp      754.646977          769.287114       642.309536   \n",
              "2   ch150.tsp     7966.184377         7334.286658      6532.280933   \n",
              "3    d198.tsp    18615.860216        19239.869423     15809.660734   \n",
              "4    a280.tsp     3467.559927         3200.804359      2586.769648   \n",
              "\n",
              "   Simple Fitness Accuracy  Stochastic Fitness Accuracy  \n",
              "0                 0.857987                     0.824729  \n",
              "1                 0.851139                     0.834941  \n",
              "2                 0.820001                     0.890650  \n",
              "3                 0.849258                     0.821714  \n",
              "4                 0.745991                     0.808162  "
            ]
          },
          "execution_count": 27,
          "metadata": {},
          "output_type": "execute_result"
        }
      ],
      "source": [
        "simple_fitness = []\n",
        "stochastic_fitness = []\n",
        "optimal_distances = []\n",
        "\n",
        "for dataset in datasets:\n",
        "    data = load_data(dataset)\n",
        "    paths = calculate_paths(data)\n",
        "    x_init = initialize_tour(paths)\n",
        "\n",
        "    #Perform hill climbing with simple variant.\n",
        "    simple_fitness.append(fitness(hill_climbing(f=fitness,x_init=initialize_tour(calculate_paths(load_data(dataset))),n_iters=100,\n",
        "                        paths=calculate_paths(load_data(dataset)),variant=\"simple\"),calculate_paths(load_data(dataset))))\n",
        "\n",
        "    #Perform hill climbing with stochastic variant.\n",
        "    stochastic_fitness.append(fitness(hill_climbing(f=fitness,x_init=initialize_tour(calculate_paths(load_data(dataset))),n_iters=100,\n",
        "                        paths=calculate_paths(load_data(dataset)),variant=\"stochastic\"),calculate_paths(load_data(dataset))))\n",
        "\n",
        "    #Calculate optimal tour distance.\n",
        "    optimal_distances.append(optimal_tour(dataset.replace('.tsp', '.opt.tour'), dataset))\n",
        "\n",
        "#Create DataFrame.\n",
        "df = pd.DataFrame({\n",
        "    'Dataset': datasets,\n",
        "    'Simple Fitness': simple_fitness,\n",
        "    'Stochastic Fitness': stochastic_fitness,\n",
        "    'Optimal Fitness': optimal_distances\n",
        "})\n",
        "\n",
        "df['Simple Fitness Accuracy']=df['Optimal Fitness']/df['Simple Fitness']\n",
        "df['Stochastic Fitness Accuracy']=df['Optimal Fitness']/df['Stochastic Fitness']\n",
        "df"
      ]
    },
    {
      "cell_type": "code",
      "execution_count": null,
      "id": "7d85a2bc",
      "metadata": {
        "id": "7d85a2bc",
        "outputId": "82e18dc6-63a3-4829-9fdf-4afc7a0ec4e0"
      },
      "outputs": [
        {
          "data": {
            "image/png": "[encoded data removed]",
            "text/plain": [
              "<Figure size 1200x800 with 1 Axes>"
            ]
          },
          "metadata": {},
          "output_type": "display_data"
        }
      ],
      "source": [
        "#Plotting results.\n",
        "plt.figure(figsize=(12, 8))\n",
        "\n",
        "bar_width = 0.3\n",
        "index = np.arange(len(df['Dataset']))\n",
        "\n",
        "plt.bar(index - bar_width/2, df['Simple Fitness Accuracy'], bar_width, color='lightblue', label='Simple Fitness Accuracy')\n",
        "plt.bar(index + bar_width/2, df['Stochastic Fitness Accuracy'], bar_width, color='orange', label='Stochastic Fitness Accuracy')\n",
        "\n",
        "plt.xlabel('Dataset')\n",
        "plt.ylabel('Accuracy')\n",
        "plt.title('Accuracy Comparison between Simple and Stochastic Fitness')\n",
        "plt.xticks(index, df['Dataset'])\n",
        "plt.legend()\n",
        "plt.show()"
      ]
    },
    {
      "cell_type": "markdown",
      "id": "6cd7dd10",
      "metadata": {
        "id": "6cd7dd10"
      },
      "source": [
        "##  Stochastic Hill Climbing works better for datasets with less nodes but as we increase nodes, Simple Hill Climbing works better."
      ]
    },
    {
      "cell_type": "code",
      "execution_count": null,
      "id": "7d584c0b",
      "metadata": {
        "id": "7d584c0b"
      },
      "outputs": [],
      "source": []
    }
  ],
  "metadata": {
    "kernelspec": {
      "display_name": "Python 3 (ipykernel)",
      "language": "python",
      "name": "python3"
    },
    "language_info": {
      "codemirror_mode": {
        "name": "ipython",
        "version": 3
      },
      "file_extension": ".py",
      "mimetype": "text/x-python",
      "name": "python",
      "nbconvert_exporter": "python",
      "pygments_lexer": "ipython3",
      "version": "3.9.13"
    },
    "colab": {
      "provenance": []
    }
  },
  "nbformat": 4,
  "nbformat_minor": 5
}