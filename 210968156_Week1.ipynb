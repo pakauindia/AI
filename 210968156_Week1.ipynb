{
 "cells": [
  {
   "attachments": {
    "image.png": {
     "image/png": "[encoded data removed]"
    }
   },
   "cell_type": "markdown",
   "id": "ca055558",
   "metadata": {},
   "source": [
    "![image.png](attachment:image.png)"
   ]
  },
  {
   "cell_type": "markdown",
   "id": "5d2a61cc",
   "metadata": {},
   "source": [
    "## Kartabya Krishna\n",
    "## RegNo: 210968244\n",
    "## Week: 1\n",
    "## Date: 20240108"
   ]
  },
  {
   "cell_type": "markdown",
   "id": "917846b0",
   "metadata": {},
   "source": [
    "## ---------------------------------------------------------------------------------------------------------------------------"
   ]
  },
  {
   "attachments": {},
   "cell_type": "markdown",
   "id": "405d6eed",
   "metadata": {},
   "source": [
    "# _Ques 2. Use the CartPole-v0 environment and write a program to:_\n",
    "\n",
    "## _a. Implement the CartPole environment for a certain number of steps_\n",
    "\n",
    "## _b. Implement the CartPole environment for a certain number of episodes_\n",
    "\n",
    "## _c. Compare and comment on the rewards earned for both approaches._\n",
    "\n",
    "## _d. Plot the cumulative reward of the games and note down the results._\n"
   ]
  },
  {
   "cell_type": "markdown",
   "id": "907af48c",
   "metadata": {},
   "source": [
    "# Import libraries and create environment"
   ]
  },
  {
   "cell_type": "code",
   "execution_count": 16,
   "id": "72256e60",
   "metadata": {},
   "outputs": [],
   "source": [
    "import gym\n",
    "import numpy as np\n",
    "import matplotlib.pyplot as plt\n",
    "\n",
    "env = gym.make('CartPole-v0')"
   ]
  },
  {
   "cell_type": "markdown",
   "id": "39bac49d",
   "metadata": {},
   "source": [
    "# Implement for n steps"
   ]
  },
  {
   "cell_type": "code",
   "execution_count": 17,
   "id": "20ca8b34",
   "metadata": {},
   "outputs": [
    {
     "name": "stdout",
     "output_type": "stream",
     "text": [
      "Episode 1 finished after 18 timesteps\n",
      "Episode 2 finished after 12 timesteps\n",
      "Episode 3 finished after 17 timesteps\n",
      "Episode 4 finished after 28 timesteps\n",
      "Episode 5 finished after 14 timesteps\n",
      "Episode 6 finished after 9 timesteps\n",
      "Episode 7 finished after 29 timesteps\n",
      "Episode 8 finished after 34 timesteps\n",
      "Episode 9 finished after 39 timesteps\n",
      "Episode 10 finished after 24 timesteps\n",
      "Episode 11 finished after 16 timesteps\n",
      "Episode 12 finished after 14 timesteps\n",
      "Episode 13 finished after 27 timesteps\n",
      "Episode 14 finished after 17 timesteps\n",
      "Episode 15 finished after 27 timesteps\n",
      "Episode 16 finished after 13 timesteps\n",
      "Episode 17 finished after 21 timesteps\n",
      "Episode 18 finished after 14 timesteps\n",
      "Episode 19 finished after 15 timesteps\n",
      "Episode 20 finished after 14 timesteps\n"
     ]
    }
   ],
   "source": [
    "n_steps = 1000\n",
    "rewards_steps = []\n",
    "\n",
    "for i_episode in range(20):\n",
    "    observation = env.reset()\n",
    "    \n",
    "    for t in range(n_steps):\n",
    "        action = env.action_space.sample()\n",
    "\n",
    "        # Handle variable returns\n",
    "        step_return = env.step(action)\n",
    "        observation, reward, done, extra = step_return[:4]\n",
    "\n",
    "        rewards_steps.append(reward)\n",
    "        \n",
    "        if done:\n",
    "            print(\"Episode {} finished after {} timesteps\".format(i_episode+1, t+1))\n",
    "            break"
   ]
  },
  {
   "cell_type": "markdown",
   "id": "c309d223",
   "metadata": {},
   "source": [
    "# Explanation\n",
    "### This implements the CartPole environment for a fixed number of 1000 steps over 20 episodes. The rewards at each step are collected in a list. env.step() returns are handled to avoid ValueErrors."
   ]
  },
  {
   "cell_type": "markdown",
   "id": "98db023e",
   "metadata": {},
   "source": [
    "# Implement for n episodes"
   ]
  },
  {
   "cell_type": "code",
   "execution_count": 18,
   "id": "363b2e80",
   "metadata": {},
   "outputs": [
    {
     "name": "stdout",
     "output_type": "stream",
     "text": [
      "Episode 1 finished after 20 timesteps\n",
      "Episode 2 finished after 40 timesteps\n",
      "Episode 3 finished after 68 timesteps\n",
      "Episode 4 finished after 21 timesteps\n",
      "Episode 5 finished after 11 timesteps\n",
      "Episode 6 finished after 29 timesteps\n",
      "Episode 7 finished after 8 timesteps\n",
      "Episode 8 finished after 9 timesteps\n",
      "Episode 9 finished after 22 timesteps\n",
      "Episode 10 finished after 17 timesteps\n",
      "Episode 11 finished after 17 timesteps\n",
      "Episode 12 finished after 11 timesteps\n",
      "Episode 13 finished after 20 timesteps\n",
      "Episode 14 finished after 22 timesteps\n",
      "Episode 15 finished after 33 timesteps\n",
      "Episode 16 finished after 11 timesteps\n",
      "Episode 17 finished after 23 timesteps\n",
      "Episode 18 finished after 15 timesteps\n",
      "Episode 19 finished after 19 timesteps\n",
      "Episode 20 finished after 25 timesteps\n"
     ]
    }
   ],
   "source": [
    "n_episodes = 20\n",
    "rewards_episodes = []\n",
    "\n",
    "for i_episode in range(n_episodes):\n",
    "    observation = env.reset()\n",
    "    episode_reward = 0\n",
    "    \n",
    "    for t in range(100):\n",
    "        action = env.action_space.sample()\n",
    "\n",
    "        # Handle variable returns\n",
    "        step_return = env.step(action)\n",
    "        observation, reward, done, extra = step_return[:4]\n",
    "\n",
    "        episode_reward += reward\n",
    "        \n",
    "        if done:\n",
    "            print(\"Episode {} finished after {} timesteps\".format(i_episode+1, t+1))\n",
    "            break\n",
    "            \n",
    "    rewards_episodes.append(episode_reward)"
   ]
  },
  {
   "cell_type": "markdown",
   "id": "2df5cdd2",
   "metadata": {},
   "source": [
    "# Explanation\n",
    "### This implements the environment for a fixed number of 20 episodes, with a maximum of 100 steps per episode. The total reward per episode is collected in a list."
   ]
  },
  {
   "cell_type": "markdown",
   "id": "6997b3c2",
   "metadata": {},
   "source": [
    "# Plot rewards"
   ]
  },
  {
   "cell_type": "code",
   "execution_count": 19,
   "id": "60231481",
   "metadata": {},
   "outputs": [
    {
     "data": {
      "image/png": "[encoded data removed]",
      "text/plain": [
       "<Figure size 640x480 with 1 Axes>"
      ]
     },
     "metadata": {},
     "output_type": "display_data"
    }
   ],
   "source": [
    "cum_rewards_steps = np.cumsum(rewards_steps)\n",
    "cum_rewards_episodes = np.cumsum(rewards_episodes)\n",
    "\n",
    "plt.plot(cum_rewards_steps, label='Steps')\n",
    "plt.plot(cum_rewards_episodes, label='Episodes')\n",
    "plt.legend()\n",
    "plt.xlabel('Timestep')\n",
    "plt.ylabel('Cumulative Reward') \n",
    "plt.show()"
   ]
  },
  {
   "cell_type": "markdown",
   "id": "5cb346b6",
   "metadata": {},
   "source": [
    "# Compare results"
   ]
  },
  {
   "cell_type": "code",
   "execution_count": 20,
   "id": "cf63aa05",
   "metadata": {},
   "outputs": [
    {
     "name": "stdout",
     "output_type": "stream",
     "text": [
      "For steps, total reward is higher as it runs for more timesteps\n",
      "For episodes, average reward per episode is higher as each episode completes before reset\n"
     ]
    }
   ],
   "source": [
    "print(\"For steps, total reward is higher as it runs for more timesteps\")\n",
    "print(\"For episodes, average reward per episode is higher as each episode completes before reset\")"
   ]
  },
  {
   "cell_type": "markdown",
   "id": "dfc8ef56",
   "metadata": {},
   "source": [
    "# Explanation\n",
    "### The cumulative rewards are plotted for the step and episode implementations. The results are compared"
   ]
  }
 ],
 "metadata": {
  "kernelspec": {
   "display_name": "Python 3 (ipykernel)",
   "language": "python",
   "name": "python3"
  },
  "language_info": {
   "codemirror_mode": {
    "name": "ipython",
    "version": 3
   },
   "file_extension": ".py",
   "mimetype": "text/x-python",
   "name": "python",
   "nbconvert_exporter": "python",
   "pygments_lexer": "ipython3",
   "version": "3.10.12"
  }
 },
 "nbformat": 4,
 "nbformat_minor": 5
}
