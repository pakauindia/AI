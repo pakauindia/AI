{
  "cells": [
    {
      "cell_type": "code",
      "execution_count": 1,
      "id": "6514436e",
      "metadata": {
        "id": "6514436e"
      },
      "outputs": [],
      "source": [
        "import gym\n",
        "import time\n",
        "import matplotlib.pyplot as plt\n",
        "import random"
      ]
    },
    {
      "cell_type": "code",
      "execution_count": 2,
      "id": "f7a65614",
      "metadata": {
        "colab": {
          "base_uri": "https://localhost:8080/"
        },
        "id": "f7a65614",
        "outputId": "737172ae-11cd-4e0f-f87c-c15998bb07e0"
      },
      "outputs": [
        {
          "output_type": "stream",
          "name": "stderr",
          "text": [
            "/usr/local/lib/python3.10/dist-packages/ipykernel/ipkernel.py:283: DeprecationWarning: `should_run_async` will not call `transform_cell` automatically in the future. Please pass the result to `transformed_cell` argument and any exception that happen during thetransform in `preprocessing_exc_tuple` in IPython 7.17 and above.\n",
            "  and should_run_async(code)\n",
            "/usr/local/lib/python3.10/dist-packages/gym/core.py:317: DeprecationWarning: \u001b[33mWARN: Initializing wrapper in old step API which returns one bool instead of two. It is recommended to set `new_step_api=True` to use new step API. This will be the default behaviour in future.\u001b[0m\n",
            "  deprecation(\n",
            "/usr/local/lib/python3.10/dist-packages/gym/wrappers/step_api_compatibility.py:39: DeprecationWarning: \u001b[33mWARN: Initializing environment in old step API which returns one bool instead of two. It is recommended to set `new_step_api=True` to use new step API. This will be the default behaviour in future.\u001b[0m\n",
            "  deprecation(\n"
          ]
        }
      ],
      "source": [
        "env = gym.make(\"CartPole-v1\",render_mode = \"human\")"
      ]
    },
    {
      "cell_type": "code",
      "execution_count": 4,
      "id": "fd3387d8",
      "metadata": {
        "colab": {
          "base_uri": "https://localhost:8080/",
          "height": 254
        },
        "id": "fd3387d8",
        "outputId": "ee317faa-3086-4558-eada-dd390c9a4741"
      },
      "outputs": [
        {
          "output_type": "error",
          "ename": "ValueError",
          "evalue": "not enough values to unpack (expected 5, got 4)",
          "traceback": [
            "\u001b[0;31m---------------------------------------------------------------------------\u001b[0m",
            "\u001b[0;31mValueError\u001b[0m                                Traceback (most recent call last)",
            "\u001b[0;32m<ipython-input-4-5a9f7ae22bb3>\u001b[0m in \u001b[0;36m<cell line: 4>\u001b[0;34m()\u001b[0m\n\u001b[1;32m      5\u001b[0m     \u001b[0menv\u001b[0m\u001b[0;34m.\u001b[0m\u001b[0mreset\u001b[0m\u001b[0;34m(\u001b[0m\u001b[0;34m)\u001b[0m\u001b[0;34m\u001b[0m\u001b[0;34m\u001b[0m\u001b[0m\n\u001b[1;32m      6\u001b[0m     \u001b[0mrandom_sample\u001b[0m \u001b[0;34m=\u001b[0m \u001b[0menv\u001b[0m\u001b[0;34m.\u001b[0m\u001b[0maction_space\u001b[0m\u001b[0;34m.\u001b[0m\u001b[0msample\u001b[0m\u001b[0;34m(\u001b[0m\u001b[0;34m)\u001b[0m\u001b[0;34m\u001b[0m\u001b[0;34m\u001b[0m\u001b[0m\n\u001b[0;32m----> 7\u001b[0;31m     \u001b[0mobs\u001b[0m\u001b[0;34m,\u001b[0m\u001b[0mreward\u001b[0m\u001b[0;34m,\u001b[0m\u001b[0mdone\u001b[0m\u001b[0;34m,\u001b[0m\u001b[0mdone2\u001b[0m\u001b[0;34m,\u001b[0m\u001b[0minfo\u001b[0m \u001b[0;34m=\u001b[0m \u001b[0menv\u001b[0m\u001b[0;34m.\u001b[0m\u001b[0mstep\u001b[0m\u001b[0;34m(\u001b[0m\u001b[0mrandom_sample\u001b[0m\u001b[0;34m)\u001b[0m\u001b[0;34m\u001b[0m\u001b[0;34m\u001b[0m\u001b[0m\n\u001b[0m\u001b[1;32m      8\u001b[0m     \u001b[0;32mfor\u001b[0m \u001b[0mi\u001b[0m \u001b[0;32min\u001b[0m \u001b[0mrange\u001b[0m\u001b[0;34m(\u001b[0m\u001b[0;36m100\u001b[0m\u001b[0;34m)\u001b[0m\u001b[0;34m:\u001b[0m\u001b[0;34m\u001b[0m\u001b[0;34m\u001b[0m\u001b[0m\n\u001b[1;32m      9\u001b[0m         \u001b[0;32mif\u001b[0m \u001b[0mobs\u001b[0m\u001b[0;34m[\u001b[0m\u001b[0;36m2\u001b[0m\u001b[0;34m]\u001b[0m\u001b[0;34m<\u001b[0m\u001b[0;36m0\u001b[0m\u001b[0;34m:\u001b[0m\u001b[0;34m\u001b[0m\u001b[0;34m\u001b[0m\u001b[0m\n",
            "\u001b[0;31mValueError\u001b[0m: not enough values to unpack (expected 5, got 4)"
          ]
        }
      ],
      "source": [
        "observations = list()\n",
        "rewards = list()\n",
        "rew_ep = dict()\n",
        "for j in range(10):\n",
        "    env.reset()\n",
        "    random_sample = env.action_space.sample()\n",
        "    obs,reward,done,done2,info = env.step(random_sample)\n",
        "    for i in range(100):\n",
        "        if obs[2]<0:\n",
        "            obs,reward,done, done2,info = env.step(0)\n",
        "        else:\n",
        "            obs,reward,done, done2,info = env.step(1)\n",
        "        observations.append(obs)\n",
        "        rewards.append(reward)\n",
        "        env.render()\n",
        "        done = done + done2\n",
        "        if done:\n",
        "            print(done)\n",
        "            print(done2)\n",
        "            env.reset()\n",
        "            break\n",
        "    rew_ep[j] =sum(rewards)\n",
        "    rewards.clear()\n",
        "env.close()"
      ]
    },
    {
      "cell_type": "code",
      "execution_count": null,
      "id": "37d3ba64",
      "metadata": {
        "id": "37d3ba64",
        "outputId": "b9a5c6dc-e1ac-4751-9659-9209ae634a77"
      },
      "outputs": [
        {
          "data": {
            "text/plain": [
              "<BarContainer object of 10 artists>"
            ]
          },
          "execution_count": 4,
          "metadata": {},
          "output_type": "execute_result"
        },
        {
          "data": {
            "image/png": "[encoded data removed]",
            "text/plain": [
              "<Figure size 432x288 with 1 Axes>"
            ]
          },
          "metadata": {
            "needs_background": "light"
          },
          "output_type": "display_data"
        }
      ],
      "source": [
        "plt.bar(rew_ep.keys(),rew_ep.values())"
      ]
    },
    {
      "cell_type": "code",
      "execution_count": null,
      "id": "84cc350b",
      "metadata": {
        "id": "84cc350b"
      },
      "outputs": [],
      "source": [
        "env1 = gym.make(\"CartPole-v1\",render_mode = \"human\")"
      ]
    },
    {
      "cell_type": "code",
      "execution_count": null,
      "id": "ff70e00b",
      "metadata": {
        "id": "ff70e00b"
      },
      "outputs": [],
      "source": [
        "observations = list()\n",
        "rewards = list()\n",
        "rew_ep2 = dict()\n",
        "for j in range(5):\n",
        "    env1.reset()\n",
        "    random_sample = env1.action_space.sample()\n",
        "    obs,reward,done, done2,info = env1.step(random_sample)\n",
        "    for i in range(10):\n",
        "        if obs[3]<0:\n",
        "            obs,reward,done, done2,info = env1.step(0)\n",
        "        else:\n",
        "            obs,reward,done, done2,info = env1.step(1)\n",
        "        observations.append(obs)\n",
        "        rewards.append(reward)\n",
        "        env1.render()\n",
        "        done = done + done2\n",
        "        if done:\n",
        "            print(done)\n",
        "            print(done2)\n",
        "            env1.reset()\n",
        "            break\n",
        "    rew_ep2[j] =sum(rewards)\n",
        "    rewards.clear()\n",
        "env1.close()"
      ]
    },
    {
      "cell_type": "code",
      "execution_count": null,
      "id": "2c1b7541",
      "metadata": {
        "id": "2c1b7541",
        "outputId": "13ac25bb-1185-491d-929a-224db721bdc7"
      },
      "outputs": [
        {
          "data": {
            "text/plain": [
              "<BarContainer object of 10 artists>"
            ]
          },
          "execution_count": 7,
          "metadata": {},
          "output_type": "execute_result"
        },
        {
          "data": {
            "image/png": "[encoded data removed]",
            "text/plain": [
              "<Figure size 432x288 with 1 Axes>"
            ]
          },
          "metadata": {
            "needs_background": "light"
          },
          "output_type": "display_data"
        }
      ],
      "source": [
        "plt.bar(rew_ep.keys(),rew_ep.values())"
      ]
    }
  ],
  "metadata": {
    "kernelspec": {
      "display_name": "Python 3 (ipykernel)",
      "language": "python",
      "name": "python3"
    },
    "language_info": {
      "codemirror_mode": {
        "name": "ipython",
        "version": 3
      },
      "file_extension": ".py",
      "mimetype": "text/x-python",
      "name": "python",
      "nbconvert_exporter": "python",
      "pygments_lexer": "ipython3",
      "version": "3.9.12"
    },
    "colab": {
      "provenance": []
    }
  },
  "nbformat": 4,
  "nbformat_minor": 5
}