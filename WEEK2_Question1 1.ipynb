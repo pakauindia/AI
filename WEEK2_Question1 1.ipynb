{
  "cells": [
    {
      "cell_type": "code",
      "execution_count": null,
      "id": "69150a41",
      "metadata": {
        "id": "69150a41"
      },
      "outputs": [],
      "source": [
        "#PRIYANSHU PANCHAL 210968174"
      ]
    },
    {
      "cell_type": "code",
      "execution_count": null,
      "id": "a0c96df0",
      "metadata": {
        "id": "a0c96df0"
      },
      "outputs": [],
      "source": [
        "# importing the libraries\n",
        "import csv\n",
        "import sys\n",
        "import time\n",
        ""
      ]
    },
    {
      "cell_type": "code",
      "execution_count": null,
      "id": "98a5f149",
      "metadata": {
        "id": "98a5f149"
      },
      "outputs": [],
      "source": [
        "# intializing the Node class\n",
        "class Node():\n",
        "    def __init__(self, state, parent, action):\n",
        "        self.state = state\n",
        "        self.parent = parent\n",
        "        self.action = action"
      ]
    },
    {
      "cell_type": "code",
      "execution_count": null,
      "id": "2ac333fe",
      "metadata": {
        "id": "2ac333fe"
      },
      "outputs": [],
      "source": [
        "# stack class for depth first search\n",
        "class StackFrontier():\n",
        "    def __init__(self):\n",
        "        self.frontier = []\n",
        "\n",
        "    def add(self, node):\n",
        "        self.frontier.append(node)\n",
        "\n",
        "    def contains_state(self, state):\n",
        "        return any(node.state == state for node in self.frontier)\n",
        "\n",
        "    def empty(self):\n",
        "        return len(self.frontier) == 0\n",
        "\n",
        "    def remove(self):\n",
        "        if self.empty():\n",
        "            raise Exception(\"empty frontier\")\n",
        "        else:\n",
        "            node = self.frontier[-1]\n",
        "            self.frontier = self.frontier[:-1]\n",
        "            return node"
      ]
    },
    {
      "cell_type": "code",
      "execution_count": null,
      "id": "3c4e418d",
      "metadata": {
        "id": "3c4e418d"
      },
      "outputs": [],
      "source": [
        "# queue class for breadth first search\n",
        "class QueueFrontier(StackFrontier):\n",
        "\n",
        "    def remove(self):\n",
        "        if self.empty():\n",
        "            raise Exception(\"empty frontier\")\n",
        "        else:\n",
        "            node = self.frontier[0]\n",
        "            self.frontier = self.frontier[1:]\n",
        "            return node"
      ]
    },
    {
      "cell_type": "code",
      "execution_count": null,
      "id": "464e148e",
      "metadata": {
        "id": "464e148e"
      },
      "outputs": [],
      "source": [
        "# maps names to a set of corresponding person_ids\n",
        "names = {}\n",
        "\n",
        "# maps person_ids to a dictionary of: name, birth, movies (a set of movie_ids)\n",
        "people = {}\n",
        "\n",
        "# maps movie_ids to a dictionary of: title, year, stars (a set of person_ids)\n",
        "movies = {}"
      ]
    },
    {
      "cell_type": "code",
      "execution_count": null,
      "id": "c9920004",
      "metadata": {
        "id": "c9920004"
      },
      "outputs": [],
      "source": [
        "# determining the neighbors of passed person ID\n",
        "def neighbors_for_person(person_id):\n",
        "    movie_ids = people[person_id][\"movies\"]\n",
        "    neighbors = set()\n",
        "    for movie_id in movie_ids:\n",
        "        for person_id in movies[movie_id][\"stars\"]:\n",
        "            neighbors.add((movie_id, person_id))\n",
        "    return neighbors"
      ]
    },
    {
      "cell_type": "code",
      "execution_count": null,
      "id": "98768c69",
      "metadata": {
        "id": "98768c69"
      },
      "outputs": [],
      "source": [
        "\n",
        "# resolving name ambiguities\n",
        "def person_id_for_name(name):\n",
        "    \"\"\"\n",
        "    Returns the IMDB id for a person's name,\n",
        "    resolving ambiguities as needed.\n",
        "    \"\"\"\n",
        "    person_ids = list(names.get(name.lower(), set()))\n",
        "    if len(person_ids) == 0:\n",
        "        return None\n",
        "    elif len(person_ids) > 1:\n",
        "        print(f\"Which '{name}'?\")\n",
        "        for person_id in person_ids:\n",
        "            person = people[person_id]\n",
        "            name = person[\"name\"]\n",
        "            birth = person[\"birth\"]\n",
        "            print(f\"ID: {person_id}, Name: {name}, Birth: {birth}\")\n",
        "        try:\n",
        "            person_id = input(\"Intended Person ID: \")\n",
        "            if person_id in person_ids:\n",
        "                return person_id\n",
        "        except ValueError:\n",
        "            pass\n",
        "        return None\n",
        "    else:\n",
        "        return person_ids[0]"
      ]
    },
    {
      "cell_type": "code",
      "execution_count": null,
      "id": "d13517d1",
      "metadata": {
        "id": "d13517d1"
      },
      "outputs": [],
      "source": [
        "#PRIYANSHU PANCHAL 210968174\n",
        "#finding the shortest path between the source and target\n",
        "def shortest_path(method, source, target):\n",
        "    \"\"\"\n",
        "    Returns the shortest list of (movie_id, person_id) pairs\n",
        "    that connect the source to the target.\n",
        "    If no possible path, returns None.\n",
        "    \"\"\"\n",
        "    solution_found = False\n",
        "    no_solution = False\n",
        "    solution = list()\n",
        "\n",
        "    initial = Node(state=source, parent=None, action=None)\n",
        "\n",
        "    if method=='bfs':\n",
        "      frontier = QueueFrontier()\n",
        "    if method=='dfs':\n",
        "      frontier = StackFrontier()\n",
        "    frontier.add(initial)\n",
        "    explored = set()\n",
        "    i = 0\n",
        "    while solution_found == False:\n",
        "\n",
        "        if frontier.empty() == True:\n",
        "            no_solution = True\n",
        "            solution_found = True\n",
        "\n",
        "        node = frontier.remove()\n",
        "        # print(\"\\n\\nNode in= \",node, ' i=', i)\n",
        "\n",
        "        if node.state == target:\n",
        "            # Return the solution\n",
        "            solution_found = True\n",
        "            while node.parent is not None:\n",
        "                pid, mid = node.state, node.action\n",
        "                solution.append((mid, pid))\n",
        "                node = node.parent\n",
        "            solution.reverse()\n",
        "\n",
        "        explored.add(node)\n",
        "        children = neighbors_for_person(node.state)\n",
        "        for child in children:\n",
        "            child_node = Node(state=child[1], action=child[0],parent=node)\n",
        "            frontier.add(child_node)\n",
        "            if child_node.state == target:\n",
        "                # Return the solution\n",
        "                solution_found = True\n",
        "                while child_node.parent is not None:\n",
        "                    pid, mid = child_node.state, child_node.action\n",
        "                    solution.append((mid, pid))\n",
        "                    child_node = child_node.parent\n",
        "                solution.reverse()\n",
        "\n",
        "    if solution_found == True:\n",
        "        if no_solution == True:\n",
        "            return None\n",
        "        return solution"
      ]
    },
    {
      "cell_type": "code",
      "execution_count": null,
      "id": "995153e4",
      "metadata": {
        "id": "995153e4"
      },
      "outputs": [],
      "source": [
        "# converting the data to a dictionary\n",
        "def load_data(folder):\n",
        "    # Load people\n",
        "    with open(f\"{folder}_people.csv\", encoding=\"utf-8\") as f:\n",
        "        reader = csv.DictReader(f)\n",
        "        for row in reader:\n",
        "            people[row[\"id\"]] = {\n",
        "                \"name\": row[\"name\"],\n",
        "                \"birth\": row[\"birth\"],\n",
        "                \"movies\": set()\n",
        "            }\n",
        "            if row[\"name\"].lower() not in names:\n",
        "                names[row[\"name\"].lower()] = {row[\"id\"]}\n",
        "            else:\n",
        "                names[row[\"name\"].lower()].add(row[\"id\"])\n",
        "\n",
        "    # Load movies\n",
        "    with open(f\"{folder}_movies.csv\", encoding=\"utf-8\") as f:\n",
        "        reader = csv.DictReader(f)\n",
        "        for row in reader:\n",
        "            movies[row[\"id\"]] = {\n",
        "                \"title\": row[\"title\"],\n",
        "                \"year\": row[\"year\"],\n",
        "                \"stars\": set()\n",
        "            }\n",
        "\n",
        "    # Load stars\n",
        "    with open(f\"{folder}_stars.csv\", encoding=\"utf-8\") as f:\n",
        "        reader = csv.DictReader(f)\n",
        "        for row in reader:\n",
        "            try:\n",
        "                people[row[\"person_id\"]][\"movies\"].add(row[\"movie_id\"])\n",
        "                movies[row[\"movie_id\"]][\"stars\"].add(row[\"person_id\"])\n",
        "            except KeyError:\n",
        "                pass"
      ]
    },
    {
      "cell_type": "code",
      "execution_count": null,
      "id": "7217f459",
      "metadata": {
        "id": "7217f459"
      },
      "outputs": [],
      "source": [
        "# main function to compile the functions\n",
        "def main(folder, method):\n",
        "\n",
        "    # Load data from files into memory\n",
        "    print(\"Loading data...\")\n",
        "    load_data(folder)\n",
        "    print(\"Data loaded.\")\n",
        "\n",
        "    source = person_id_for_name(input(\"Enter Name: \"))\n",
        "    if source is None:\n",
        "        sys.exit(\"Person not found.\")\n",
        "    target = person_id_for_name(input(\"Enter Name: \"))\n",
        "    if target is None:\n",
        "        sys.exit(\"Person not found.\")\n",
        "\n",
        "    print(str.format('Using {}: ', method))\n",
        "\n",
        "    path = shortest_path(method, source, target)\n",
        "\n",
        "    if path is None:\n",
        "        print(\"Not connected.\")\n",
        "    else:\n",
        "        degrees = len(path)\n",
        "        print(f\"{degrees} degrees of separation.\")\n",
        "        path = [(None, source)] + path\n",
        "        for i in range(degrees):\n",
        "            person1 = people[path[i][1]][\"name\"]\n",
        "            person2 = people[path[i + 1][1]][\"name\"]\n",
        "            movie = movies[path[i + 1][0]][\"title\"]\n",
        "            print(f\"{i + 1}: {person1} and {person2} starred in {movie}\")"
      ]
    },
    {
      "cell_type": "code",
      "execution_count": null,
      "id": "ab83300a",
      "metadata": {
        "id": "ab83300a",
        "outputId": "c33c76f9-b59c-4672-abbb-d547aebbd02c"
      },
      "outputs": [
        {
          "name": "stdout",
          "output_type": "stream",
          "text": [
            "Loading data...\n",
            "Data loaded.\n",
            "Enter Name: Tom Hanks\n",
            "Enter Name: Cary Elwes\n",
            "Using bfs: \n",
            "2 degrees of separation.\n",
            "1: Tom Hanks and Robin Wright starred in Forrest Gump\n",
            "2: Robin Wright and Cary Elwes starred in The Princess Bride\n",
            "Elapsed time: 38.70625615119934 seconds\n"
          ]
        }
      ],
      "source": [
        "start = time.time()\n",
        "main('small', 'bfs')\n",
        "end = time.time()\n",
        "print(str.format('Elapsed time: {} seconds', end-start))"
      ]
    },
    {
      "cell_type": "code",
      "execution_count": null,
      "id": "f8003458",
      "metadata": {
        "id": "f8003458",
        "outputId": "f331e7f5-a2f5-4520-d2dd-2d76291a6c58"
      },
      "outputs": [
        {
          "name": "stdout",
          "output_type": "stream",
          "text": [
            "Loading data...\n",
            "Data loaded.\n",
            "Enter Name: Tom Hanks\n",
            "Enter Name: Cary Elwes\n",
            "Using dfs: \n",
            "2 degrees of separation.\n",
            "1: Tom Hanks and Robin Wright starred in Forrest Gump\n",
            "2: Robin Wright and Cary Elwes starred in The Princess Bride\n",
            "Elapsed time: 13.601578712463379 seconds\n"
          ]
        }
      ],
      "source": [
        "start = time.time()\n",
        "main('small', 'dfs')\n",
        "end = time.time()\n",
        "print(str.format('Elapsed time: {} seconds', end-start))"
      ]
    },
    {
      "cell_type": "code",
      "execution_count": null,
      "id": "5d016849",
      "metadata": {
        "id": "5d016849"
      },
      "outputs": [],
      "source": [
        "#PRIYANSHU PANCHAL 210968174"
      ]
    },
    {
      "cell_type": "code",
      "execution_count": null,
      "id": "20e890b4",
      "metadata": {
        "id": "20e890b4"
      },
      "outputs": [],
      "source": []
    }
  ],
  "metadata": {
    "kernelspec": {
      "display_name": "Python 3 (ipykernel)",
      "language": "python",
      "name": "python3"
    },
    "language_info": {
      "codemirror_mode": {
        "name": "ipython",
        "version": 3
      },
      "file_extension": ".py",
      "mimetype": "text/x-python",
      "name": "python",
      "nbconvert_exporter": "python",
      "pygments_lexer": "ipython3",
      "version": "3.11.3"
    },
    "colab": {
      "provenance": []
    }
  },
  "nbformat": 4,
  "nbformat_minor": 5
}