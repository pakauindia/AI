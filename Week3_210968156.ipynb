{
  "cells": [
    {
      "cell_type": "markdown",
      "id": "334254bb",
      "metadata": {
        "id": "334254bb"
      },
      "source": [
        "# Week-3 AI Lab\n",
        "# Parshva Dedhia\n",
        "# 210968156"
      ]
    },
    {
      "cell_type": "markdown",
      "id": "2787d272",
      "metadata": {
        "id": "2787d272"
      },
      "source": [
        "## Exercises\n",
        "\n",
        "EasyAI is an artificial intelligence framework for two-players abstract games. Read\n",
        "through the documentation.\\\n",
        "http://zulko.github.io/easyAI/index.html/\n",
        "Write a python program to define and implement a tic—tac-toe game with one human\n",
        "player. \\\n",
        "Solve the game using the built in algorithms and compare the solutions:\\\n",
        "    1. Iterative Deepening \\\n",
        "    2. Depth first search"
      ]
    },
    {
      "cell_type": "markdown",
      "id": "622a045a",
      "metadata": {
        "id": "622a045a"
      },
      "source": [
        "## Importing Libraries"
      ]
    },
    {
      "cell_type": "code",
      "execution_count": null,
      "id": "9205f163",
      "metadata": {
        "id": "9205f163"
      },
      "outputs": [],
      "source": [
        "import easyAI\n",
        "from easyAI import TwoPlayerGame\n",
        "from easyAI.Player import Human_Player\n",
        "from easyAI import AI_Player, Negamax\n",
        "from easyAI import solve_with_iterative_deepening, solve_with_depth_first_search\n",
        "import time"
      ]
    },
    {
      "cell_type": "markdown",
      "id": "d1d7115f",
      "metadata": {
        "id": "d1d7115f"
      },
      "source": [
        "## Creating Tic-Tac-Toe Game"
      ]
    },
    {
      "cell_type": "code",
      "execution_count": null,
      "id": "e3a9cb35",
      "metadata": {
        "id": "e3a9cb35"
      },
      "outputs": [],
      "source": [
        "class TicTacToe( TwoPlayerGame ):\n",
        "    \"\"\" The board positions are numbered as follows:\n",
        "            1 2 3\n",
        "            4 5 6\n",
        "            7 8 9\n",
        "    \"\"\"\n",
        "    def __init__(self, players):\n",
        "        self.players = players\n",
        "        self.board = [0 for i in range(9)]\n",
        "        self.nplayer = 1\n",
        "        self.nopponent = 3-self.nplayer\n",
        "        self.current_player=1\n",
        "\n",
        "    def possible_moves(self):\n",
        "        return [i+1 for i,e in enumerate(self.board) if e==0]\n",
        "\n",
        "    def make_move(self, move):\n",
        "        self.board[int(move)-1] = self.nplayer\n",
        "        self.nplayer=3-self.nplayer\n",
        "\n",
        "#     def unmake_move(self, move): # optional method (speeds up the AI)\n",
        "#         self.board[int(move)-1] = 0\n",
        "\n",
        "    def lose(self):\n",
        "        \"\"\" Has the opponent \"three in line ?\" \"\"\"\n",
        "        return any( [all([(self.board[c-1]== self.current_player)\n",
        "                      for c in line])\n",
        "                      for line in [[1,2,3],[4,5,6],[7,8,9], # horiz.\n",
        "                                   [1,4,7],[2,5,8],[3,6,9], # vertical\n",
        "                                   [1,5,9],[3,5,7]]]) # diagonal\n",
        "\n",
        "    def is_over(self):\n",
        "        return (self.possible_moves() == []) or self.lose()\n",
        "\n",
        "    def show(self):\n",
        "        print ('\\n'+'\\n'.join([\n",
        "                        ' '.join([['.','O','X'][self.board[3*j+i]]\n",
        "                        for i in range(3)])\n",
        "                 for j in range(3)]) )\n",
        "\n",
        "    def scoring(self):\n",
        "        return -100 if self.lose() else 0"
      ]
    },
    {
      "cell_type": "code",
      "execution_count": null,
      "id": "13b71f7f",
      "metadata": {
        "id": "13b71f7f"
      },
      "outputs": [],
      "source": [
        "def main(algo):\n",
        "    ai = Negamax(9)\n",
        "    if algo == 'id':\n",
        "        result = solve_with_iterative_deepening(game=TicTacToe(players=[AI_Player(ai), Human_Player()]), ai_depths=range(2, 10), win_score=100)\n",
        "    elif algo == 'dfs':\n",
        "        result = solve_with_depth_first_search(game=TicTacToe(players=[AI_Player(ai), Human_Player()]), win_score=100)\n",
        "    else:\n",
        "        print(\"Invalid algorithm.\")\n",
        "    return result"
      ]
    },
    {
      "cell_type": "markdown",
      "id": "58c5abf8",
      "metadata": {
        "id": "58c5abf8"
      },
      "source": [
        "## 1. Analyzing solution provided by Iterative Deepening."
      ]
    },
    {
      "cell_type": "code",
      "execution_count": null,
      "id": "d4bccfc3",
      "metadata": {
        "id": "d4bccfc3",
        "outputId": "023a708f-8e1e-4828-f95c-4eecb9a7983a"
      },
      "outputs": [
        {
          "name": "stdout",
          "output_type": "stream",
          "text": [
            "d:2, a:0, m:1\n",
            "d:3, a:0, m:1\n",
            "d:4, a:0, m:1\n",
            "d:5, a:0, m:1\n",
            "d:6, a:0, m:1\n",
            "d:7, a:0, m:1\n",
            "d:8, a:0, m:1\n",
            "d:9, a:0, m:1\n",
            "Result:  (0, 9, 1)\n",
            "Time Taken: 0.62s\n"
          ]
        }
      ],
      "source": [
        "start = time.time()\n",
        "idres = main('id')\n",
        "end = time.time()\n",
        "print('Result: ', idres)\n",
        "print(str.format('Time Taken: {:.2f}s', end-start))"
      ]
    },
    {
      "cell_type": "markdown",
      "id": "0ce3e249",
      "metadata": {
        "id": "0ce3e249"
      },
      "source": [
        "## 2. Analyzing solution provided by Depth First Search."
      ]
    },
    {
      "cell_type": "code",
      "execution_count": null,
      "id": "756550f2",
      "metadata": {
        "id": "756550f2",
        "outputId": "0cccbd0a-6f17-427c-b517-ad0832274749"
      },
      "outputs": [
        {
          "name": "stdout",
          "output_type": "stream",
          "text": [
            "Result:  0\n",
            "Time Taken: 20.40s\n"
          ]
        }
      ],
      "source": [
        "start = time.time()\n",
        "dfsres = main('dfs')\n",
        "end = time.time()\n",
        "print('Result: ', dfsres)\n",
        "print(str.format('Time Taken: {:.2f}s', end-start))"
      ]
    },
    {
      "cell_type": "markdown",
      "id": "38b9cd5c",
      "metadata": {
        "id": "38b9cd5c"
      },
      "source": [
        "## Clearly, Iterative Deepening works much better than Depth First Search."
      ]
    },
    {
      "cell_type": "markdown",
      "id": "ff90dbb0",
      "metadata": {
        "id": "ff90dbb0"
      },
      "source": [
        "##  AI VS Human"
      ]
    },
    {
      "cell_type": "code",
      "execution_count": null,
      "id": "7a0f2cdf",
      "metadata": {
        "id": "7a0f2cdf",
        "outputId": "de09b94b-a3a0-4a31-ce5f-93e8aec3fb53"
      },
      "outputs": [
        {
          "name": "stdout",
          "output_type": "stream",
          "text": [
            "\n",
            ". . .\n",
            ". . .\n",
            ". . .\n",
            "\n",
            "Player 1 what do you play ? 5\n",
            "\n",
            "Move #1: player 1 plays 5 :\n",
            "\n",
            ". . .\n",
            ". O .\n",
            ". . .\n",
            "\n",
            "Move #2: player 2 plays 1 :\n",
            "\n",
            "X . .\n",
            ". O .\n",
            ". . .\n",
            "\n",
            "Player 1 what do you play ? 3\n",
            "\n",
            "Move #3: player 1 plays 3 :\n",
            "\n",
            "X . O\n",
            ". O .\n",
            ". . .\n",
            "\n",
            "Move #4: player 2 plays 2 :\n",
            "\n",
            "X X O\n",
            ". O .\n",
            ". . .\n",
            "\n",
            "Player 1 what do you play ? 7\n",
            "\n",
            "Move #5: player 1 plays 7 :\n",
            "\n",
            "X X O\n",
            ". O .\n",
            "O . .\n",
            "\n",
            "Move #6: player 2 plays 4 :\n",
            "\n",
            "X X O\n",
            "X O .\n",
            "O . .\n"
          ]
        },
        {
          "data": {
            "text/plain": [
              "[(<__main__.TicTacToe at 0x21348d1fdf0>, 5),\n",
              " (<__main__.TicTacToe at 0x2134874b100>, 1),\n",
              " (<__main__.TicTacToe at 0x21348d23c40>, 3),\n",
              " (<__main__.TicTacToe at 0x21348d23490>, 2),\n",
              " (<__main__.TicTacToe at 0x21348d23d90>, 7),\n",
              " (<__main__.TicTacToe at 0x21348d23f70>, 4),\n",
              " <__main__.TicTacToe at 0x21348d23b50>]"
            ]
          },
          "execution_count": 8,
          "metadata": {},
          "output_type": "execute_result"
        }
      ],
      "source": [
        "ai_algo = Negamax(9)\n",
        "TicTacToe( [Human_Player(),AI_Player(ai_algo)]).play()"
      ]
    },
    {
      "cell_type": "markdown",
      "id": "f03cf5cd",
      "metadata": {
        "id": "f03cf5cd"
      },
      "source": [
        "## Human VS Human"
      ]
    },
    {
      "cell_type": "code",
      "execution_count": null,
      "id": "23c8b15d",
      "metadata": {
        "id": "23c8b15d",
        "outputId": "f5333765-31b0-47d4-b93b-d7c565c9b3e0"
      },
      "outputs": [
        {
          "name": "stdout",
          "output_type": "stream",
          "text": [
            "\n",
            ". . .\n",
            ". . .\n",
            ". . .\n",
            "\n",
            "Player 1 what do you play ? 3\n",
            "\n",
            "Move #1: player 1 plays 3 :\n",
            "\n",
            ". . O\n",
            ". . .\n",
            ". . .\n",
            "\n",
            "Player 2 what do you play ? 7\n",
            "\n",
            "Move #2: player 2 plays 7 :\n",
            "\n",
            ". . O\n",
            ". . .\n",
            "X . .\n",
            "\n",
            "Player 1 what do you play ? 9\n",
            "\n",
            "Move #3: player 1 plays 9 :\n",
            "\n",
            ". . O\n",
            ". . .\n",
            "X . O\n",
            "\n",
            "Player 2 what do you play ? 6\n",
            "\n",
            "Move #4: player 2 plays 6 :\n",
            "\n",
            ". . O\n",
            ". . X\n",
            "X . O\n",
            "\n",
            "Player 1 what do you play ? 5\n",
            "\n",
            "Move #5: player 1 plays 5 :\n",
            "\n",
            ". . O\n",
            ". O X\n",
            "X . O\n",
            "\n",
            "Player 2 what do you play ? 1\n",
            "\n",
            "Move #6: player 2 plays 1 :\n",
            "\n",
            "X . O\n",
            ". O X\n",
            "X . O\n",
            "\n",
            "Player 1 what do you play ? 8\n",
            "\n",
            "Move #7: player 1 plays 8 :\n",
            "\n",
            "X . O\n",
            ". O X\n",
            "X O O\n",
            "\n",
            "Player 2 what do you play ? 2\n",
            "\n",
            "Move #8: player 2 plays 2 :\n",
            "\n",
            "X X O\n",
            ". O X\n",
            "X O O\n",
            "\n",
            "Player 1 what do you play ? 4\n",
            "\n",
            "Move #9: player 1 plays 4 :\n",
            "\n",
            "X X O\n",
            "O O X\n",
            "X O O\n"
          ]
        },
        {
          "data": {
            "text/plain": [
              "[(<__main__.TicTacToe at 0x21348d17e20>, 3),\n",
              " (<__main__.TicTacToe at 0x21348d08a00>, 7),\n",
              " (<__main__.TicTacToe at 0x21348d24700>, 9),\n",
              " (<__main__.TicTacToe at 0x21348d21730>, 6),\n",
              " (<__main__.TicTacToe at 0x21348d23bb0>, 5),\n",
              " (<__main__.TicTacToe at 0x21348d24400>, 1),\n",
              " (<__main__.TicTacToe at 0x21348d083d0>, 8),\n",
              " (<__main__.TicTacToe at 0x21348d23790>, 2),\n",
              " (<__main__.TicTacToe at 0x21348d248e0>, 4),\n",
              " <__main__.TicTacToe at 0x21348d24430>]"
            ]
          },
          "execution_count": 9,
          "metadata": {},
          "output_type": "execute_result"
        }
      ],
      "source": [
        "TicTacToe( [Human_Player(),Human_Player()]).play()"
      ]
    },
    {
      "cell_type": "code",
      "execution_count": null,
      "id": "cbb5977e",
      "metadata": {
        "id": "cbb5977e"
      },
      "outputs": [],
      "source": []
    }
  ],
  "metadata": {
    "kernelspec": {
      "display_name": "Python 3 (ipykernel)",
      "language": "python",
      "name": "python3"
    },
    "language_info": {
      "codemirror_mode": {
        "name": "ipython",
        "version": 3
      },
      "file_extension": ".py",
      "mimetype": "text/x-python",
      "name": "python",
      "nbconvert_exporter": "python",
      "pygments_lexer": "ipython3",
      "version": "3.9.13"
    },
    "colab": {
      "provenance": []
    }
  },
  "nbformat": 4,
  "nbformat_minor": 5
}