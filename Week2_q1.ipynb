{
 "cells": [
  {
   "cell_type": "markdown",
   "id": "ffce3b1f",
   "metadata": {},
   "source": [
    "Author-Bhavna Aggarwal, 210968060\n",
    "Batch B1"
   ]
  },
  {
   "cell_type": "markdown",
   "id": "865b56fc",
   "metadata": {},
   "source": [
    "WEEK 2: Problem Solving Agents & SEARCH, POLICY \n",
    "QUESTION 1: The Game : \n",
    "According to the “Six Degrees of Kevin Bacon” game, anyone in the Hollywood film industry can be \n",
    "connected to Kevin Bacon within six steps, where each step consists of finding a film that two actors \n",
    "both starred in. To solve the problem, find the shortest path between any two actors by choosing a \n",
    "sequence of movies that connects them. For example, the shortest path between Jennifer Lawrence \n",
    "and Tom Hanks is 2: Jennifer Lawrence is connected to Kevin Bacon by both starring in “X-Men: First \n",
    "Class,” and Kevin Bacon is connected to Tom Hanks by both starring in “Apollo 13.” \n",
    "Problem Solving Agent: \n",
    "Given two actors nodes in the graph we need to find the distance (shortest path) between the \n",
    "nodes. Write a python program to determine how many “degrees of separation” apart two actors \n",
    "are. Find the distance or the degree of separation., using \n",
    "a. Breadth first search \n",
    "b. Depth first search "
   ]
  },
  {
   "cell_type": "code",
   "execution_count": null,
   "id": "74af0cf7",
   "metadata": {},
   "outputs": [],
   "source": [
    "import pandas as pd\n",
    "\n",
    "# Reading all the datasets\n",
    "df1 = pd.read_csv('C:/Users/mca/Downloads/degrees(1)/degrees/small/movies.csv')\n",
    "df2 = pd.read_csv('C:/Users/mca/Downloads/degrees(1)/degrees/small/people.csv')\n",
    "df3 = pd.read_csv('C:/Users/mca/Downloads/degrees(1)/degrees/small/stars.csv')\n",
    "\n",
    "# Renaming the columns\n",
    "df1.rename(columns = {'id':'movie_id'}, inplace = True)\n",
    "df2.rename(columns = {'id':'person_id'}, inplace = True)\n",
    "\n",
    "# Merging the datasets\n",
    "df = df3.merge(df1, on='movie_id', how='left').merge(df2, on='person_id', how='left')\n",
    "\n",
    "#Dropping unnecessary columns\n",
    "df = df.drop(['birth', 'person_id', 'movie_id'], axis = 1)\n",
    "\n",
    "#Sorting the columns\n",
    "df = df.sort_index(axis=1)\n",
    "\n",
    "#Saving the dataset\n",
    "df.to_csv('small.csv', index=False)"
   ]
  },
  {
   "cell_type": "code",
   "execution_count": 6,
   "id": "28616d10",
   "metadata": {},
   "outputs": [
    {
     "data": {
      "text/html": [
       "<div>\n",
       "<style scoped>\n",
       "    .dataframe tbody tr th:only-of-type {\n",
       "        vertical-align: middle;\n",
       "    }\n",
       "\n",
       "    .dataframe tbody tr th {\n",
       "        vertical-align: top;\n",
       "    }\n",
       "\n",
       "    .dataframe thead th {\n",
       "        text-align: right;\n",
       "    }\n",
       "</style>\n",
       "<table border=\"1\" class=\"dataframe\">\n",
       "  <thead>\n",
       "    <tr style=\"text-align: right;\">\n",
       "      <th></th>\n",
       "      <th>name</th>\n",
       "      <th>title</th>\n",
       "      <th>year</th>\n",
       "    </tr>\n",
       "  </thead>\n",
       "  <tbody>\n",
       "    <tr>\n",
       "      <th>0</th>\n",
       "      <td>Kevin Bacon</td>\n",
       "      <td>A Few Good Men</td>\n",
       "      <td>1992</td>\n",
       "    </tr>\n",
       "    <tr>\n",
       "      <th>1</th>\n",
       "      <td>Kevin Bacon</td>\n",
       "      <td>Apollo 13</td>\n",
       "      <td>1995</td>\n",
       "    </tr>\n",
       "    <tr>\n",
       "      <th>2</th>\n",
       "      <td>Tom Cruise</td>\n",
       "      <td>A Few Good Men</td>\n",
       "      <td>1992</td>\n",
       "    </tr>\n",
       "    <tr>\n",
       "      <th>3</th>\n",
       "      <td>Tom Cruise</td>\n",
       "      <td>Rain Man</td>\n",
       "      <td>1988</td>\n",
       "    </tr>\n",
       "    <tr>\n",
       "      <th>4</th>\n",
       "      <td>Cary Elwes</td>\n",
       "      <td>The Princess Bride</td>\n",
       "      <td>1987</td>\n",
       "    </tr>\n",
       "    <tr>\n",
       "      <th>5</th>\n",
       "      <td>Tom Hanks</td>\n",
       "      <td>Forrest Gump</td>\n",
       "      <td>1994</td>\n",
       "    </tr>\n",
       "    <tr>\n",
       "      <th>6</th>\n",
       "      <td>Tom Hanks</td>\n",
       "      <td>Apollo 13</td>\n",
       "      <td>1995</td>\n",
       "    </tr>\n",
       "    <tr>\n",
       "      <th>7</th>\n",
       "      <td>Mandy Patinkin</td>\n",
       "      <td>The Princess Bride</td>\n",
       "      <td>1987</td>\n",
       "    </tr>\n",
       "    <tr>\n",
       "      <th>8</th>\n",
       "      <td>Dustin Hoffman</td>\n",
       "      <td>Rain Man</td>\n",
       "      <td>1988</td>\n",
       "    </tr>\n",
       "    <tr>\n",
       "      <th>9</th>\n",
       "      <td>Chris Sarandon</td>\n",
       "      <td>The Princess Bride</td>\n",
       "      <td>1987</td>\n",
       "    </tr>\n",
       "    <tr>\n",
       "      <th>10</th>\n",
       "      <td>Demi Moore</td>\n",
       "      <td>A Few Good Men</td>\n",
       "      <td>1992</td>\n",
       "    </tr>\n",
       "    <tr>\n",
       "      <th>11</th>\n",
       "      <td>Jack Nicholson</td>\n",
       "      <td>A Few Good Men</td>\n",
       "      <td>1992</td>\n",
       "    </tr>\n",
       "    <tr>\n",
       "      <th>12</th>\n",
       "      <td>Bill Paxton</td>\n",
       "      <td>Apollo 13</td>\n",
       "      <td>1995</td>\n",
       "    </tr>\n",
       "    <tr>\n",
       "      <th>13</th>\n",
       "      <td>Sally Field</td>\n",
       "      <td>Forrest Gump</td>\n",
       "      <td>1994</td>\n",
       "    </tr>\n",
       "    <tr>\n",
       "      <th>14</th>\n",
       "      <td>Valeria Golino</td>\n",
       "      <td>Rain Man</td>\n",
       "      <td>1988</td>\n",
       "    </tr>\n",
       "    <tr>\n",
       "      <th>15</th>\n",
       "      <td>Gerald R. Molen</td>\n",
       "      <td>Rain Man</td>\n",
       "      <td>1988</td>\n",
       "    </tr>\n",
       "    <tr>\n",
       "      <th>16</th>\n",
       "      <td>Gary Sinise</td>\n",
       "      <td>Forrest Gump</td>\n",
       "      <td>1994</td>\n",
       "    </tr>\n",
       "    <tr>\n",
       "      <th>17</th>\n",
       "      <td>Gary Sinise</td>\n",
       "      <td>Apollo 13</td>\n",
       "      <td>1995</td>\n",
       "    </tr>\n",
       "    <tr>\n",
       "      <th>18</th>\n",
       "      <td>Robin Wright</td>\n",
       "      <td>Forrest Gump</td>\n",
       "      <td>1994</td>\n",
       "    </tr>\n",
       "    <tr>\n",
       "      <th>19</th>\n",
       "      <td>Robin Wright</td>\n",
       "      <td>The Princess Bride</td>\n",
       "      <td>1987</td>\n",
       "    </tr>\n",
       "  </tbody>\n",
       "</table>\n",
       "</div>"
      ],
      "text/plain": [
       "               name               title  year\n",
       "0       Kevin Bacon      A Few Good Men  1992\n",
       "1       Kevin Bacon           Apollo 13  1995\n",
       "2        Tom Cruise      A Few Good Men  1992\n",
       "3        Tom Cruise            Rain Man  1988\n",
       "4        Cary Elwes  The Princess Bride  1987\n",
       "5         Tom Hanks        Forrest Gump  1994\n",
       "6         Tom Hanks           Apollo 13  1995\n",
       "7    Mandy Patinkin  The Princess Bride  1987\n",
       "8    Dustin Hoffman            Rain Man  1988\n",
       "9    Chris Sarandon  The Princess Bride  1987\n",
       "10       Demi Moore      A Few Good Men  1992\n",
       "11   Jack Nicholson      A Few Good Men  1992\n",
       "12      Bill Paxton           Apollo 13  1995\n",
       "13      Sally Field        Forrest Gump  1994\n",
       "14   Valeria Golino            Rain Man  1988\n",
       "15  Gerald R. Molen            Rain Man  1988\n",
       "16      Gary Sinise        Forrest Gump  1994\n",
       "17      Gary Sinise           Apollo 13  1995\n",
       "18     Robin Wright        Forrest Gump  1994\n",
       "19     Robin Wright  The Princess Bride  1987"
      ]
     },
     "execution_count": 6,
     "metadata": {},
     "output_type": "execute_result"
    }
   ],
   "source": [
    "df"
   ]
  },
  {
   "cell_type": "code",
   "execution_count": 8,
   "id": "0875aca1",
   "metadata": {},
   "outputs": [],
   "source": [
    "#data prep\n",
    "data = {}\n",
    "with open('small.csv', 'r') as file:\n",
    "    reader = csv.reader(file)\n",
    "    for row in reader:\n",
    "        actor = row[0]\n",
    "        movie = row[1]\n",
    "        if actor not in data:\n",
    "            data[actor] = set()\n",
    "        data[actor].add(movie)\n",
    "        if movie not in data:\n",
    "            data[movie] = set()\n",
    "        data[movie].add(actor)"
   ]
  },
  {
   "cell_type": "code",
   "execution_count": 9,
   "id": "3078f84f",
   "metadata": {},
   "outputs": [
    {
     "data": {
      "text/plain": [
       "{'name': {'title'},\n",
       " 'title': {'name'},\n",
       " 'Kevin Bacon': {'A Few Good Men', 'Apollo 13'},\n",
       " 'A Few Good Men': {'Demi Moore',\n",
       "  'Jack Nicholson',\n",
       "  'Kevin Bacon',\n",
       "  'Tom Cruise'},\n",
       " 'Apollo 13': {'Bill Paxton', 'Gary Sinise', 'Kevin Bacon', 'Tom Hanks'},\n",
       " 'Tom Cruise': {'A Few Good Men', 'Rain Man'},\n",
       " 'Rain Man': {'Dustin Hoffman',\n",
       "  'Gerald R. Molen',\n",
       "  'Tom Cruise',\n",
       "  'Valeria Golino'},\n",
       " 'Cary Elwes': {'The Princess Bride'},\n",
       " 'The Princess Bride': {'Cary Elwes',\n",
       "  'Chris Sarandon',\n",
       "  'Mandy Patinkin',\n",
       "  'Robin Wright'},\n",
       " 'Tom Hanks': {'Apollo 13', 'Forrest Gump'},\n",
       " 'Forrest Gump': {'Gary Sinise', 'Robin Wright', 'Sally Field', 'Tom Hanks'},\n",
       " 'Mandy Patinkin': {'The Princess Bride'},\n",
       " 'Dustin Hoffman': {'Rain Man'},\n",
       " 'Chris Sarandon': {'The Princess Bride'},\n",
       " 'Demi Moore': {'A Few Good Men'},\n",
       " 'Jack Nicholson': {'A Few Good Men'},\n",
       " 'Bill Paxton': {'Apollo 13'},\n",
       " 'Sally Field': {'Forrest Gump'},\n",
       " 'Valeria Golino': {'Rain Man'},\n",
       " 'Gerald R. Molen': {'Rain Man'},\n",
       " 'Gary Sinise': {'Apollo 13', 'Forrest Gump'},\n",
       " 'Robin Wright': {'Forrest Gump', 'The Princess Bride'}}"
      ]
     },
     "execution_count": 9,
     "metadata": {},
     "output_type": "execute_result"
    }
   ],
   "source": [
    "data"
   ]
  },
  {
   "cell_type": "code",
   "execution_count": 13,
   "id": "21bceed5",
   "metadata": {},
   "outputs": [],
   "source": [
    "#depth_first_search\n",
    "def dfs(data, start, end, path=None):\n",
    "    if path is None:\n",
    "        path = [start]\n",
    "    if start == end:\n",
    "        return path\n",
    "    for actorOrMovie in data[start]:\n",
    "        if actorOrMovie not in path:\n",
    "            new_path = dfs(data, actorOrMovie, end, path + [actorOrMovie])\n",
    "            if new_path is not None:\n",
    "                return new_path\n",
    "    return None"
   ]
  },
  {
   "cell_type": "code",
   "execution_count": 14,
   "id": "306faaff",
   "metadata": {},
   "outputs": [
    {
     "name": "stdout",
     "output_type": "stream",
     "text": [
      "['Kevin Bacon', 'A Few Good Men', 'Tom Cruise', 'Rain Man', 'Valeria Golino']\n"
     ]
    }
   ],
   "source": [
    "print(dfs(data, 'Kevin Bacon', 'Valeria Golino'))"
   ]
  },
  {
   "cell_type": "code",
   "execution_count": 17,
   "id": "cd37d167",
   "metadata": {},
   "outputs": [],
   "source": [
    "from queue import Queue"
   ]
  },
  {
   "cell_type": "code",
   "execution_count": 1,
   "id": "20f51c3d",
   "metadata": {},
   "outputs": [],
   "source": [
    "#breadth first search\n",
    "def bfs(start, end, data):\n",
    "    visited = set()\n",
    "    queue = Queue()\n",
    "    queue.put((start, 0))\n",
    "    while not queue.empty():\n",
    "        actor, degree = queue.get()\n",
    "        if actor == end:\n",
    "            return degree\n",
    "        visited.add(actor)\n",
    "        for neighbor in data[actor]:\n",
    "            if neighbor not in visited:\n",
    "                queue.put((neighbor, degree + 1))\n",
    "    return None"
   ]
  },
  {
   "cell_type": "code",
   "execution_count": 19,
   "id": "d9b4fe0f",
   "metadata": {
    "scrolled": true
   },
   "outputs": [
    {
     "name": "stdout",
     "output_type": "stream",
     "text": [
      "4\n"
     ]
    }
   ],
   "source": [
    "print(bfs('Kevin Bacon', 'Valeria Golino',data))"
   ]
  },
  {
   "cell_type": "code",
   "execution_count": null,
   "id": "29873d57",
   "metadata": {},
   "outputs": [],
   "source": []
  }
 ],
 "metadata": {
  "kernelspec": {
   "display_name": "Python 3 (ipykernel)",
   "language": "python",
   "name": "python3"
  },
  "language_info": {
   "codemirror_mode": {
    "name": "ipython",
    "version": 3
   },
   "file_extension": ".py",
   "mimetype": "text/x-python",
   "name": "python",
   "nbconvert_exporter": "python",
   "pygments_lexer": "ipython3",
   "version": "3.9.12"
  }
 },
 "nbformat": 4,
 "nbformat_minor": 5
}
